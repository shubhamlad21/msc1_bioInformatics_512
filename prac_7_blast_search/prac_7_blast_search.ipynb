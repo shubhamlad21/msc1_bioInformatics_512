{
  "nbformat": 4,
  "nbformat_minor": 0,
  "metadata": {
    "colab": {
      "provenance": []
    },
    "kernelspec": {
      "name": "python3",
      "display_name": "Python 3"
    },
    "language_info": {
      "name": "python"
    }
  },
  "cells": [
    {
      "cell_type": "code",
      "execution_count": 14,
      "metadata": {
        "colab": {
          "base_uri": "https://localhost:8080/"
        },
        "id": "X8vxoU2Ltnx9",
        "outputId": "7b29a001-96c0-4cfe-de24-f1c998367e5d"
      },
      "outputs": [
        {
          "output_type": "stream",
          "name": "stdout",
          "text": [
            "score of A is  4\n",
            "score of C is  2\n",
            "score of T is  3\n",
            "score of G is  3\n"
          ]
        }
      ],
      "source": [
        "file=open(\"genes.txt\",\"r\") \n",
        "r=file.read() \n",
        "size=len(r) \n",
        "score_A=0 \n",
        "score_C=0 \n",
        "score_T=0 \n",
        "score_G=0 \n",
        "for i in range(size):\n",
        "  if(r[i]=='A'):\n",
        "    score_A+=1 \n",
        "  elif (r[i]=='C'):\n",
        "    score_C+=1\n",
        "  elif (r[i]=='T'):\n",
        "    score_T+=1\n",
        "  elif (r[i]=='G'):\n",
        "    score_G+=1\n",
        "print(\"score of A is \",score_A) \n",
        "print(\"score of C is \",score_C) \n",
        "print(\"score of T is \",score_T) \n",
        "print(\"score of G is \",score_G) "
      ]
    },
    {
      "cell_type": "code",
      "source": [],
      "metadata": {
        "id": "zidGSfAsGAFj"
      },
      "execution_count": null,
      "outputs": []
    }
  ]
}