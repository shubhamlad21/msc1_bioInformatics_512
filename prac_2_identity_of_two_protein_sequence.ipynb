{
  "nbformat": 4,
  "nbformat_minor": 0,
  "metadata": {
    "colab": {
      "provenance": []
    },
    "kernelspec": {
      "name": "python3",
      "display_name": "Python 3"
    },
    "language_info": {
      "name": "python"
    }
  },
  "cells": [
    {
      "cell_type": "code",
      "execution_count": 10,
      "metadata": {
        "colab": {
          "base_uri": "https://localhost:8080/"
        },
        "id": "X8vxoU2Ltnx9",
        "outputId": "9a828329-0dd0-4d01-ec99-e6a7c6da7cb8"
      },
      "outputs": [
        {
          "output_type": "stream",
          "name": "stdout",
          "text": [
            "Enter the first sequence::abcvfdg\n",
            "Enter the second sequence::abvgcfd\n",
            "\n",
            "['a', 'b', 'c', 'v', 'f', 'd', 'g']\n",
            "['a', 'b', 'v', 'g', 'c', 'f', 'd']\n",
            "Matching Score:  7\n",
            "Identity of the sequences:  14.285714285714285\n"
          ]
        }
      ],
      "source": [
        "se1=input(\"Enter the first sequence::\") \n",
        "se2=input(\"Enter the second sequence::\") \n",
        "seq1=list(se1) \n",
        "seq2=list(se2) \n",
        "def find_identity(a,b):\n",
        "  gap(a,b)\n",
        "  print(a)\n",
        "  print(b)\n",
        "  score=0\n",
        "  length=len(a)\n",
        "  total_elements=len(a)*len(b)\n",
        "  for i in range(0,length):\n",
        "    for j in range(0,length):\n",
        "      if(a[i]==b[j]):\n",
        "        score=score+1 \n",
        "  identity=(score/total_elements)*100\n",
        "  print(\"Matching Score: \",score) \n",
        "  print(\"Identity of the sequences: \",identity) \n",
        "def gap(a,b):\n",
        "  if(len(a)==len(b)):\n",
        "    print()\n",
        "  else:\n",
        "    k=int(input(\"enter the position to insert gap: \"))\n",
        "    if (len(a)<len(b)):\n",
        "      a.insert(k,'-')\n",
        "    else:\n",
        "      b.insert(k,'-')\n",
        "  return(a,b)\n",
        "find_identity(seq1,seq2) "
      ]
    }
  ]
}