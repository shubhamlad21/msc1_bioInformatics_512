{
  "nbformat": 4,
  "nbformat_minor": 0,
  "metadata": {
    "colab": {
      "provenance": []
    },
    "kernelspec": {
      "name": "python3",
      "display_name": "Python 3"
    },
    "language_info": {
      "name": "python"
    }
  },
  "cells": [
    {
      "cell_type": "code",
      "execution_count": 13,
      "metadata": {
        "colab": {
          "base_uri": "https://localhost:8080/"
        },
        "id": "X8vxoU2Ltnx9",
        "outputId": "6f0593fa-5889-47ed-8805-11e8e697f2c0"
      },
      "outputs": [
        {
          "output_type": "stream",
          "name": "stdout",
          "text": [
            "Enter the length of motif: 4\n",
            "Sequence ACTGAATTCAGG\n",
            "Size of the sequence is:  12\n",
            "Position:  0\n",
            "Motif :  ACTG\n"
          ]
        }
      ],
      "source": [
        "import random\n",
        "l=int(input(\"Enter the length of motif: \"))\n",
        "file=open(\"mot.txt\",\"r\")\n",
        "r=file.read()\n",
        "print(\"Sequence\",r)\n",
        "size=len(r)\n",
        "print(\"Size of the sequence is: \",size)\n",
        "pos=random.randint(0,len(r)-5)\n",
        "#pos=1\n",
        "print(\"Position: \",pos)\n",
        "motif=r[pos:pos+l]\n",
        "print(\"Motif : \",motif)\n",
        "i=pos+1\n",
        "while(i<=size-1):\n",
        "    if(motif==r[i:i+1]):\n",
        "        str1=r[i:i+1]\n",
        "        print(\"Match motif\",str1)\n",
        "        file1=open(\"motoutput.txt\",\"a\")\n",
        "        file1.write(str1+\" \")\n",
        "    i+=1"
      ]
    }
  ]
}