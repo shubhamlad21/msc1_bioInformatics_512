{
  "nbformat": 4,
  "nbformat_minor": 0,
  "metadata": {
    "colab": {
      "provenance": []
    },
    "kernelspec": {
      "name": "python3",
      "display_name": "Python 3"
    },
    "language_info": {
      "name": "python"
    }
  },
  "cells": [
    {
      "cell_type": "code",
      "execution_count": 8,
      "metadata": {
        "colab": {
          "base_uri": "https://localhost:8080/"
        },
        "id": "X8vxoU2Ltnx9",
        "outputId": "fc674b37-a2d9-4a3d-b92c-c31313a1b5d2"
      },
      "outputs": [
        {
          "output_type": "stream",
          "name": "stdout",
          "text": [
            "DNA strand is: GGTACTTGCCAT\n",
            "Complementary Strand is: CCATGAACGGTA\n"
          ]
        }
      ],
      "source": [
        "def complementary_strand_find(dna_strand):\n",
        "    complementary_strand = \"\"\n",
        "    for base in dna_strand:\n",
        "        if base == \"A\":\n",
        "            complementary_strand += \"T\"\n",
        "        elif base == \"T\":\n",
        "            complementary_strand += \"A\"\n",
        "        elif base == \"U\":\n",
        "            complementary_strand += \"A\"\n",
        "        elif base == \"G\":\n",
        "            complementary_strand += \"C\"\n",
        "        elif base == \"C\":\n",
        "            complementary_strand += \"G\"\n",
        "        elif base == \"Y\":\n",
        "            complementary_strand += \"R\"\n",
        "        elif base == \"R\":\n",
        "            complementary_strand += \"Y\"\n",
        "        else:\n",
        "            print(\"Wrong input\")\n",
        "            complementary_strand = None\n",
        "            break\n",
        "    return complementary_strand\n",
        "if __name__ == \"__main__\":\n",
        "  dna_strand = \"GGTACTTGCCAT\"\n",
        "print(\"DNA strand is:\",dna_strand)\n",
        "print(\"Complementary Strand is:\",complementary_strand_find(dna_strand))"
      ]
    }
  ]
}