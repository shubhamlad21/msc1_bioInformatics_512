{
  "nbformat": 4,
  "nbformat_minor": 0,
  "metadata": {
    "colab": {
      "name": "BioInformatics.ipynb",
      "provenance": [],
      "toc_visible": true,
      "authorship_tag": "ABX9TyO26pU1MmwP3GyrzedKq+iA",
      "include_colab_link": true
    },
    "kernelspec": {
      "name": "python3",
      "display_name": "Python 3"
    },
    "language_info": {
      "name": "python"
    }
  },
  "cells": [
    {
      "cell_type": "markdown",
      "metadata": {
        "id": "view-in-github",
        "colab_type": "text"
      },
      "source": [
        "<a href=\"https://colab.research.google.com/github/shubhamlad21/msc1_bioInformatics_512/blob/main/BioInformatics.ipynb\" target=\"_parent\"><img src=\"https://colab.research.google.com/assets/colab-badge.svg\" alt=\"Open In Colab\"/></a>"
      ]
    },
    {
      "cell_type": "markdown",
      "source": [
        "**Bio-Informatics**"
      ],
      "metadata": {
        "id": "6LtF7qC5hfBK"
      }
    },
    {
      "cell_type": "code",
      "execution_count": 3,
      "metadata": {
        "colab": {
          "base_uri": "https://localhost:8080/"
        },
        "id": "QyeCfcnye9Nr",
        "outputId": "151cf55e-117f-40b6-f745-3e1ab40cf45a"
      },
      "outputs": [
        {
          "output_type": "stream",
          "name": "stdout",
          "text": [
            "DNA strand is: GGTACTTGCCAT\n",
            "Complementary Strand is: CCATGAACGGTA\n"
          ]
        }
      ],
      "source": [
        "def complementary_strand_find(dna_strand):\n",
        "    complementary_strand = \"\"\n",
        "    for base in dna_strand:\n",
        "        if base == \"A\":\n",
        "            complementary_strand += \"T\"\n",
        "        elif base == \"T\":\n",
        "            complementary_strand += \"A\"\n",
        "        elif base == \"U\":\n",
        "            complementary_strand += \"A\"\n",
        "        elif base == \"G\":\n",
        "            complementary_strand += \"C\"\n",
        "        elif base == \"C\":\n",
        "            complementary_strand += \"G\"\n",
        "        elif base == \"Y\":\n",
        "            complementary_strand += \"R\"\n",
        "        elif base == \"R\":\n",
        "            complementary_strand += \"Y\"\n",
        "        else:\n",
        "            print(\"Wrong input\")\n",
        "            complementary_strand = None\n",
        "            break\n",
        "    return complementary_strand\n",
        "if __name__ == \"__main__\":\n",
        "  dna_strand = \"GGTACTTGCCAT\"\n",
        "print(\"DNA strand is:\",dna_strand)\n",
        "print(\"Complementary Strand is:\",complementary_strand_find(dna_strand))"
      ]
    },
    {
      "cell_type": "code",
      "source": [
        "from collections import Counter\n",
        "gene1 = \"pleabfv\".lower()\n",
        "gene2 = \"abvfbfv\".lower()\n",
        "a = Counter(gene1)\n",
        "b = Counter(gene2)\n",
        "no_of_letters_matched = 0\n",
        "for x in list(set(a.keys()) & set(b.keys())):\n",
        "  # print(x,a[x],b[x])\n",
        "  no_of_letters_matched += a[x]*b[x]\n",
        "  # if a[x] > b[x]:\n",
        "  #   no_of_letters_matched += b[x]\n",
        "  # else:\n",
        "  #   no_of_letters_matched += a[x]\n",
        "print(no_of_letters_matched*100/(len(gene1)*len(gene2)),\"%\")"
      ],
      "metadata": {
        "colab": {
          "base_uri": "https://localhost:8080/"
        },
        "id": "Z3NX0_kjgBaR",
        "outputId": "9725ce43-6050-41c1-9dd3-a663b2a97973"
      },
      "execution_count": 4,
      "outputs": [
        {
          "output_type": "stream",
          "name": "stdout",
          "text": [
            "14.285714285714286 %\n"
          ]
        }
      ]
    },
    {
      "cell_type": "code",
      "source": [
        "def identity(size):\n",
        "  for row in range(0,size):\n",
        "    for col in range(0,size):\n",
        "      if (row==col):\n",
        "        print(\"1\",end=\"\")\n",
        "      else:\n",
        "        print(\"0\",end=\"\")\n",
        "    print()\n",
        "\n",
        "size=6\n",
        "identity(size)"
      ],
      "metadata": {
        "colab": {
          "base_uri": "https://localhost:8080/"
        },
        "id": "KtpO37w2gH14",
        "outputId": "cfa1fa68-04d6-4c48-b158-83ca8b0f2ffe"
      },
      "execution_count": 8,
      "outputs": [
        {
          "output_type": "stream",
          "name": "stdout",
          "text": [
            "100000\n",
            "010000\n",
            "001000\n",
            "000100\n",
            "000010\n",
            "000001\n"
          ]
        }
      ]
    }
  ]
}