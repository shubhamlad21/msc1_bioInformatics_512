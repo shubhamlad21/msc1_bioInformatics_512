{
  "nbformat": 4,
  "nbformat_minor": 0,
  "metadata": {
    "colab": {
      "name": "BioInformatics.ipynb",
      "provenance": [],
      "authorship_tag": "ABX9TyMfOc/LzGXCi1hqJDhHLpb5",
      "include_colab_link": true
    },
    "kernelspec": {
      "name": "python3",
      "display_name": "Python 3"
    },
    "language_info": {
      "name": "python"
    }
  },
  "cells": [
    {
      "cell_type": "markdown",
      "metadata": {
        "id": "view-in-github",
        "colab_type": "text"
      },
      "source": [
        "<a href=\"https://colab.research.google.com/github/shubhamlad21/msc1_bioInformatics_512/blob/main/BioInformatics.ipynb\" target=\"_parent\"><img src=\"https://colab.research.google.com/assets/colab-badge.svg\" alt=\"Open In Colab\"/></a>"
      ]
    },
    {
      "cell_type": "markdown",
      "source": [
        "**Bio-Informatics**"
      ],
      "metadata": {
        "id": "6LtF7qC5hfBK"
      }
    },
    {
      "cell_type": "code",
      "execution_count": null,
      "metadata": {
        "colab": {
          "base_uri": "https://localhost:8080/"
        },
        "id": "QyeCfcnye9Nr",
        "outputId": "151cf55e-117f-40b6-f745-3e1ab40cf45a"
      },
      "outputs": [
        {
          "output_type": "stream",
          "name": "stdout",
          "text": [
            "DNA strand is: GGTACTTGCCAT\n",
            "Complementary Strand is: CCATGAACGGTA\n"
          ]
        }
      ],
      "source": [
        "def complementary_strand_find(dna_strand):\n",
        "    complementary_strand = \"\"\n",
        "    for base in dna_strand:\n",
        "        if base == \"A\":\n",
        "            complementary_strand += \"T\"\n",
        "        elif base == \"T\":\n",
        "            complementary_strand += \"A\"\n",
        "        elif base == \"U\":\n",
        "            complementary_strand += \"A\"\n",
        "        elif base == \"G\":\n",
        "            complementary_strand += \"C\"\n",
        "        elif base == \"C\":\n",
        "            complementary_strand += \"G\"\n",
        "        elif base == \"Y\":\n",
        "            complementary_strand += \"R\"\n",
        "        elif base == \"R\":\n",
        "            complementary_strand += \"Y\"\n",
        "        else:\n",
        "            print(\"Wrong input\")\n",
        "            complementary_strand = None\n",
        "            break\n",
        "    return complementary_strand\n",
        "if __name__ == \"__main__\":\n",
        "  dna_strand = \"GGTACTTGCCAT\"\n",
        "print(\"DNA strand is:\",dna_strand)\n",
        "print(\"Complementary Strand is:\",complementary_strand_find(dna_strand))"
      ]
    },
    {
      "cell_type": "code",
      "source": [
        "from collections import Counter\n",
        "gene1 = \"pleabfv\".lower()\n",
        "gene2 = \"abvfbfv\".lower()\n",
        "a = Counter(gene1)\n",
        "b = Counter(gene2)\n",
        "no_of_letters_matched = 0\n",
        "for x in list(set(a.keys()) & set(b.keys())):\n",
        "  # print(x,a[x],b[x])\n",
        "  no_of_letters_matched += a[x]*b[x]\n",
        "  # if a[x] > b[x]:\n",
        "  #   no_of_letters_matched += b[x]\n",
        "  # else:\n",
        "  #   no_of_letters_matched += a[x]\n",
        "print(no_of_letters_matched*100/(len(gene1)*len(gene2)),\"%\")"
      ],
      "metadata": {
        "colab": {
          "base_uri": "https://localhost:8080/"
        },
        "id": "Z3NX0_kjgBaR",
        "outputId": "9725ce43-6050-41c1-9dd3-a663b2a97973"
      },
      "execution_count": null,
      "outputs": [
        {
          "output_type": "stream",
          "name": "stdout",
          "text": [
            "14.285714285714286 %\n"
          ]
        }
      ]
    },
    {
      "cell_type": "code",
      "source": [
        "def identity(size):\n",
        "  for row in range(0,size):\n",
        "    for col in range(0,size):\n",
        "      if (row==col):\n",
        "        print(\"1\",end=\"\")\n",
        "      else:\n",
        "        print(\"0\",end=\"\")\n",
        "    print()\n",
        "\n",
        "size=6\n",
        "identity(size)"
      ],
      "metadata": {
        "colab": {
          "base_uri": "https://localhost:8080/"
        },
        "id": "KtpO37w2gH14",
        "outputId": "cfa1fa68-04d6-4c48-b158-83ca8b0f2ffe"
      },
      "execution_count": null,
      "outputs": [
        {
          "output_type": "stream",
          "name": "stdout",
          "text": [
            "100000\n",
            "010000\n",
            "001000\n",
            "000100\n",
            "000010\n",
            "000001\n"
          ]
        }
      ]
    },
    {
      "cell_type": "markdown",
      "source": [
        "**18_08_2022**"
      ],
      "metadata": {
        "id": "2r1iLUijC78Y"
      }
    },
    {
      "cell_type": "code",
      "source": [
        "from typing import Sequence\n",
        "seq_one=input(\"Enter the first sequence: \")\n",
        "seq_two=input(\"Enter the second sequence: \")\n",
        "how_many=int(input(\"How many elements for similarity condition?\"))\n",
        "similarities=[]\n",
        "for i in range(0,how_many):\n",
        "  a=input(\"Enter an elements: \")\n",
        "  c=int(input(\"How many elements is it similar to?\"))\n",
        "  similarities.append([])\n",
        "  similarities[i].append(a)\n",
        "\n",
        "  for j in range(0,c):\n",
        "    b=input(\"What is it similar to?\")\n",
        "    similarities[i].append(b)\n",
        "\n",
        "def compare(o,t,s):\n",
        "  print(o)\n",
        "  print(t)\n",
        "  print(s)\n",
        "\n",
        "  score=0\n",
        "  for i in range(len(o)):\n",
        "    for j in range(len(s)):\n",
        "      if o[i] in s[j] and t[i] in s[j] and o[i] != t[i]:\n",
        "        score+=1\n",
        "  similarity=(score*100)/len(o)\n",
        "  return similarity\n",
        "print(compare(list(seq_one),list(seq_two),similarities),\"%\")"
      ],
      "metadata": {
        "colab": {
          "base_uri": "https://localhost:8080/"
        },
        "id": "iNuHu0z_DAB6",
        "outputId": "9bbb161b-8cb5-4b12-d994-ad0271bf26a5"
      },
      "execution_count": null,
      "outputs": [
        {
          "output_type": "stream",
          "name": "stdout",
          "text": [
            "Enter the first sequence: PQITLWSVFS\n",
            "Enter the second sequence: PQITIWTVWI\n",
            "How many elements for similarity condition?5\n",
            "Enter an elements: N\n",
            "How many elements is it similar to?2\n",
            "What is it similar to?Q\n",
            "What is it similar to?N\n",
            "Enter an elements: L\n",
            "How many elements is it similar to?3\n",
            "What is it similar to?T\n",
            "What is it similar to?I\n",
            "What is it similar to?I\n",
            "Enter an elements: S\n",
            "How many elements is it similar to?1\n",
            "What is it similar to?T\n",
            "Enter an elements: F\n",
            "How many elements is it similar to?2\n",
            "What is it similar to?W\n",
            "What is it similar to?Y\n",
            "Enter an elements: K\n",
            "How many elements is it similar to?2\n",
            "What is it similar to?R\n",
            "What is it similar to?K\n",
            "['P', 'Q', 'I', 'T', 'L', 'W', 'S', 'V', 'F', 'S']\n",
            "['P', 'Q', 'I', 'T', 'I', 'W', 'T', 'V', 'W', 'I']\n",
            "[['N', 'Q', 'N'], ['L', 'T', 'I', 'I'], ['S', 'T'], ['F', 'W', 'Y'], ['K', 'R', 'K']]\n",
            "30.0 %\n"
          ]
        }
      ]
    }
  ]
}