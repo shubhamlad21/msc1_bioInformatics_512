{
  "nbformat": 4,
  "nbformat_minor": 0,
  "metadata": {
    "colab": {
      "provenance": []
    },
    "kernelspec": {
      "name": "python3",
      "display_name": "Python 3"
    },
    "language_info": {
      "name": "python"
    }
  },
  "cells": [
    {
      "cell_type": "code",
      "execution_count": 11,
      "metadata": {
        "colab": {
          "base_uri": "https://localhost:8080/"
        },
        "id": "X8vxoU2Ltnx9",
        "outputId": "8aa803d5-2c06-44bb-c807-e49c7e34deca"
      },
      "outputs": [
        {
          "output_type": "stream",
          "name": "stdout",
          "text": [
            "Enter the first sequence: abcvdgfhijk\n",
            "Enter the second sequence: abgcvfghji\n",
            "How many elements for similarity condition?2\n",
            "Enter an element: a\n",
            "How many elements is it similar to? 2\n",
            "What is it similar to? j\n",
            "What is it similar to? i\n",
            "Enter an element: c\n",
            "How many elements is it similar to? 3\n",
            "What is it similar to? v\n",
            "What is it similar to? f\n",
            "What is it similar to? g\n",
            "['a', 'b', 'c', 'v', 'd', 'g', 'f', 'h', 'i', 'j', 'k']\n",
            "['a', 'b', 'g', 'c', 'v', 'f', 'g', 'h', 'j', 'i']\n",
            "[['a', 'j', 'i'], ['c', 'v', 'f', 'g']]\n",
            "54.54545454545455 %\n"
          ]
        }
      ],
      "source": [
        "sequence_one=input(\"Enter the first sequence: \") \n",
        "sequence_two=input(\"Enter the second sequence: \") \n",
        "how_many=int(input(\"How many elements for similarity condition?\")) \n",
        "similarities=[] \n",
        "for i in range(0,how_many):\n",
        "  a=input(\"Enter an element: \")\n",
        "  c=int(input(\"How many elements is it similar to? \"))\n",
        "  similarities.append([])\n",
        "  similarities[i].append(a)\n",
        "  for j in range(0,c):\n",
        "    b=input(\"What is it similar to? \") \n",
        "    similarities[i].append(b) \n",
        "def compare(o,t,s):\n",
        "  print(o)\n",
        "  print(t)\n",
        "  print(s)\n",
        "#checking if similar\n",
        "  score=0\n",
        "  for i in range(len(o)):\n",
        "      for j in range(len(s)):\n",
        "        if o[i] in s[j] and t[i] in s[j] and o[i] != t[i]:\n",
        "          score+=1\n",
        "        #calculating similarity \n",
        "  similarity= (score*100)/len(o) \n",
        "  return similarity \n",
        "print(compare(list(sequence_one),list(sequence_two),similarities),\"%\") "
      ]
    }
  ]
}