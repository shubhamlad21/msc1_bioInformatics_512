{
  "nbformat": 4,
  "nbformat_minor": 0,
  "metadata": {
    "colab": {
      "provenance": []
    },
    "kernelspec": {
      "name": "python3",
      "display_name": "Python 3"
    },
    "language_info": {
      "name": "python"
    }
  },
  "cells": [
    {
      "cell_type": "code",
      "execution_count": 7,
      "metadata": {
        "colab": {
          "base_uri": "https://localhost:8080/"
        },
        "id": "X8vxoU2Ltnx9",
        "outputId": "acee0130-8fb5-41c7-e241-c4694ecf926b"
      },
      "outputs": [
        {
          "output_type": "stream",
          "name": "stdout",
          "text": [
            "Enter the first sequence: abcvfc\n",
            "Enter the second sequence: abbcv\n",
            "Enter the position to insert the gap: 2\n",
            "['a', 'b', 'c', 'v', 'f', 'c']\n",
            "['a', 'b', '-', 'b', 'c', 'v']\n",
            "Score  ['1', '1', '0', '0', '0', '0']\n",
            "Value  1\n"
          ]
        }
      ],
      "source": [
        "seq1=list(input(\"Enter the first sequence: \"))\n",
        "seq2=list(input(\"Enter the second sequence: \"))\n",
        "score=[]\n",
        "def pairwise(a,b):\n",
        "    gap(a,b)\n",
        "    print(a)\n",
        "    print(b)\n",
        "    value=1\n",
        "    length=len(a)\n",
        "    for i in range(0,length):\n",
        "        if a[i]==b[i]:\n",
        "            score.append('1')\n",
        "            value+=0\n",
        "        else:\n",
        "            score.append('0')\n",
        "    print(\"Score \",score)\n",
        "    print(\"Value \",value)\n",
        "\n",
        "def gap(a,b):\n",
        "    if (len(a)==len(b)):\n",
        "        print()\n",
        "    else:\n",
        "        k=int(input(\"Enter the position to insert the gap: \"))\n",
        "        if (len(a)<len(b)):\n",
        "            a.insert(k,'-')\n",
        "        else:\n",
        "            b.insert(k,'-')\n",
        "        return (a,b)\n",
        "pairwise(seq1,seq2)"
      ]
    }
  ]
}